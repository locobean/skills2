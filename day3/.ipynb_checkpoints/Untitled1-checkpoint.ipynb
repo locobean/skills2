{
 "cells": [
  {
   "cell_type": "code",
   "execution_count": null,
   "id": "979480d0-5e6d-42c7-bd0c-53a8f4754f44",
   "metadata": {},
   "outputs": [],
   "source": []
  }
 ],
 "metadata": {
  "kernelspec": {
   "display_name": "",
   "name": ""
  },
  "language_info": {
   "name": ""
  }
 },
 "nbformat": 4,
 "nbformat_minor": 5
}
