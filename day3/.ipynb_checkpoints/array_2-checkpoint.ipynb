{
 "cells": [
  {
   "cell_type": "code",
   "execution_count": 1,
   "id": "c3c5c097-5cd1-48a4-82ff-22d56f645e68",
   "metadata": {},
   "outputs": [],
   "source": [
    "import numpy as np"
   ]
  },
  {
   "cell_type": "code",
   "execution_count": 2,
   "id": "d2984bad-3cd8-4d52-af06-e83d5fc0050b",
   "metadata": {},
   "outputs": [
    {
     "name": "stdout",
     "output_type": "stream",
     "text": [
      "[1 2 3 4] [10 20 30 40]\n"
     ]
    }
   ],
   "source": [
    "a = np.array([1,2,3,4,])\n",
    "b = np.array([10,20,30,40])\n",
    "print(a,b)"
   ]
  },
  {
   "cell_type": "code",
   "execution_count": 10,
   "id": "dd73d001-80c6-40f8-8560-5a655378610c",
   "metadata": {},
   "outputs": [
    {
     "name": "stdout",
     "output_type": "stream",
     "text": [
      "Add array together [11 22 33 44]\n",
      "subtration [ -9 -18 -27 -36]\n",
      "multiply [ 10  40  90 160]\n",
      "Square root [3.31662479 4.69041576 5.74456265 6.63324958]\n",
      "expo [2.20264658e+04 4.85165195e+08 1.06864746e+13 2.35385267e+17]\n"
     ]
    }
   ],
   "source": [
    "# element operations\n",
    "# addition\n",
    "print(\"Add array together\", a + b)\n",
    "# subtracting\n",
    "print(\"subtration\", a - b)\n",
    "# multiply \n",
    "print(\"multiply\", a* b)\n",
    "# universal functions\n",
    "print(\"Square root\", np.sqrt(a + b))\n",
    "print (\"expo\", np.exp(b))\n",
    "\n",
    "\n",
    "\n"
   ]
  },
  {
   "cell_type": "code",
   "execution_count": 14,
   "id": "9d3b4481-046b-4ba6-803f-cf133f25c924",
   "metadata": {},
   "outputs": [
    {
     "name": "stdout",
     "output_type": "stream",
     "text": [
      "[ 7 14 21]\n",
      "[3 6 9]\n",
      "[10 40 90]\n",
      "[2.5 2.5 2.5]\n",
      "[ 125 1000 3375]\n"
     ]
    }
   ],
   "source": [
    "array1 = np.array([5,10,15])\n",
    "array2 = np.array([2,4,6])\n",
    "print(array1 + array2)\n",
    "print(array1 - array2)\n",
    "print(array1 * array2)\n",
    "print(array1 / array2)\n",
    "print (array1 **3)"
   ]
  },
  {
   "cell_type": "code",
   "execution_count": 15,
   "id": "cc0d5ecf-0c49-4388-9033-5231454ac808",
   "metadata": {},
   "outputs": [],
   "source": [
    "addition = array1 + array2\n",
    "subraction = array1 - array2\n",
    "multiplication =  array1 * array2\n",
    "divide = array1 / array2\n",
    "cube = array1 **3\n"
   ]
  },
  {
   "cell_type": "code",
   "execution_count": 16,
   "id": "e45d9231-7262-45f0-aeab-4719e9dccac8",
   "metadata": {},
   "outputs": [
    {
     "name": "stdout",
     "output_type": "stream",
     "text": [
      "[11 12 13 14 15]\n"
     ]
    }
   ],
   "source": [
    "# Braodcasting\n",
    "\n",
    "arr1 = np.array([1,2,3,4,5])\n",
    "\n",
    "print(arr1 + 10)"
   ]
  },
  {
   "cell_type": "code",
   "execution_count": 17,
   "id": "cb8a8367-3951-4fb1-a8e6-9e7897656f71",
   "metadata": {},
   "outputs": [
    {
     "name": "stdout",
     "output_type": "stream",
     "text": [
      "[ 5 10 15 20 25]\n"
     ]
    }
   ],
   "source": [
    "print(arr1 * 5)"
   ]
  },
  {
   "cell_type": "code",
   "execution_count": 18,
   "id": "969d9f46-1cf4-4442-b289-4cfa327e000a",
   "metadata": {},
   "outputs": [
    {
     "name": "stdout",
     "output_type": "stream",
     "text": [
      "[[1 2 3]\n",
      " [4 5 6]]\n"
     ]
    }
   ],
   "source": [
    "mat = np.array([[1,2,3],[4,5,6]])\n",
    "print(mat)"
   ]
  },
  {
   "cell_type": "code",
   "execution_count": 20,
   "id": "bc5ab67c-53fa-4e83-86eb-43aafb79930d",
   "metadata": {},
   "outputs": [
    {
     "name": "stdout",
     "output_type": "stream",
     "text": [
      "add array to existing matrix [[11 22 33]\n",
      " [14 25 36]]\n"
     ]
    }
   ],
   "source": [
    "print(\"add array to existing matrix\", mat + np.array([10,20,30]))"
   ]
  },
  {
   "cell_type": "code",
   "execution_count": 22,
   "id": "dd249dd1-e24c-42dc-8de0-78dd2c86e2c3",
   "metadata": {},
   "outputs": [
    {
     "name": "stdout",
     "output_type": "stream",
     "text": [
      "(2, 3)\n",
      "6\n"
     ]
    }
   ],
   "source": [
    "print(mat.shape)\n",
    "print(mat.size)"
   ]
  },
  {
   "cell_type": "code",
   "execution_count": 28,
   "id": "a98dc957-9ec2-419e-9adb-09ad618b14ad",
   "metadata": {},
   "outputs": [
    {
     "name": "stdout",
     "output_type": "stream",
     "text": [
      "[1. 2. 3. 4.]\n"
     ]
    }
   ],
   "source": [
    "arr_m = np.array([2,4,6,8])\n",
    "print(arr_m * 0.5)"
   ]
  },
  {
   "cell_type": "code",
   "execution_count": 33,
   "id": "396adbb5-d430-4e4a-ba16-974c183320f1",
   "metadata": {},
   "outputs": [
    {
     "ename": "TypeError",
     "evalue": "array() takes from 1 to 2 positional arguments but 3 were given",
     "output_type": "error",
     "traceback": [
      "\u001b[31m---------------------------------------------------------------------------\u001b[39m",
      "\u001b[31mTypeError\u001b[39m                                 Traceback (most recent call last)",
      "\u001b[36mCell\u001b[39m\u001b[36m \u001b[39m\u001b[32mIn[33]\u001b[39m\u001b[32m, line 1\u001b[39m\n\u001b[32m----> \u001b[39m\u001b[32m1\u001b[39m arr_1 = \u001b[43mnp\u001b[49m\u001b[43m.\u001b[49m\u001b[43marray\u001b[49m\u001b[43m(\u001b[49m\u001b[43m[\u001b[49m\u001b[32;43m5\u001b[39;49m\u001b[43m,\u001b[49m\u001b[32;43m10\u001b[39;49m\u001b[43m,\u001b[49m\u001b[32;43m15\u001b[39;49m\u001b[43m]\u001b[49m\u001b[43m,\u001b[49m\u001b[43m[\u001b[49m\u001b[32;43m2\u001b[39;49m\u001b[43m,\u001b[49m\u001b[32;43m4\u001b[39;49m\u001b[43m,\u001b[49m\u001b[32;43m6\u001b[39;49m\u001b[43m]\u001b[49m\u001b[43m,\u001b[49m\u001b[43m[\u001b[49m\u001b[32;43m7\u001b[39;49m\u001b[43m,\u001b[49m\u001b[32;43m9\u001b[39;49m\u001b[43m,\u001b[49m\u001b[32;43m11\u001b[39;49m\u001b[43m]\u001b[49m\u001b[43m)\u001b[49m\n\u001b[32m      2\u001b[39m \u001b[38;5;28mprint\u001b[39m(arr_1)\n",
      "\u001b[31mTypeError\u001b[39m: array() takes from 1 to 2 positional arguments but 3 were given"
     ]
    }
   ],
   "source": [
    "arr_1 = np.array([5,10,15],[2,4,6],[7,9,11])\n",
    "print(arr_1)"
   ]
  },
  {
   "cell_type": "code",
   "execution_count": 34,
   "id": "1db0935c-eaf8-4c5a-b549-58f336c43001",
   "metadata": {},
   "outputs": [
    {
     "name": "stdout",
     "output_type": "stream",
     "text": [
      "Python list time: 1.3727858066558838\n",
      "numpy array time 0.006608009338378906\n"
     ]
    }
   ],
   "source": [
    "import time\n",
    "\n",
    " \n",
    "\n",
    "size = 10_000_000\n",
    "\n",
    " \n",
    "\n",
    "#Python list\n",
    "\n",
    "list1 = list(range(size))\n",
    "\n",
    "start = time.time()\n",
    "\n",
    "list2 = [ x * 2 for x in list1]\n",
    "\n",
    "print(\"Python list time:\", time.time() - start)\n",
    "\n",
    " \n",
    "\n",
    "#numpy array \n",
    "\n",
    "arr = np.arange(size)\n",
    "\n",
    "start = time.time()\n",
    "\n",
    "arr2 = arr1 * 2\n",
    "\n",
    "print(\"numpy array time\", time.time() - start)\n",
    "\n",
    "\n",
    "\n",
    "\n"
   ]
  },
  {
   "cell_type": "code",
   "execution_count": 2,
   "id": "8ec8deb7-e6f5-42db-b9df-460777ceeb36",
   "metadata": {},
   "outputs": [
    {
     "name": "stdout",
     "output_type": "stream",
     "text": [
      "[[3 3]]\n"
     ]
    }
   ],
   "source": [
    "import numpy as np\n",
    "arr_10 = np.array([[3,3]])\n",
    "print(arr_10)"
   ]
  },
  {
   "cell_type": "code",
   "execution_count": 6,
   "id": "10fec168-ff36-4c39-ab07-f8fb0020c883",
   "metadata": {},
   "outputs": [
    {
     "name": "stdout",
     "output_type": "stream",
     "text": [
      "[[0. 0. 0. 0.]\n",
      " [0. 0. 0. 0.]\n",
      " [0. 0. 0. 0.]\n",
      " [0. 0. 0. 0.]\n",
      " [0. 0. 0. 0.]]\n"
     ]
    }
   ],
   "source": [
    "arr_10 = np.zeros((5,4))\n",
    "print(arr_10)"
   ]
  },
  {
   "cell_type": "code",
   "execution_count": 8,
   "id": "24dff2aa-f4c9-4e3b-8938-01e4afa2284e",
   "metadata": {},
   "outputs": [
    {
     "ename": "ValueError",
     "evalue": "cannot reshape array of size 20 into shape (3,4)",
     "output_type": "error",
     "traceback": [
      "\u001b[31m---------------------------------------------------------------------------\u001b[39m",
      "\u001b[31mValueError\u001b[39m                                Traceback (most recent call last)",
      "\u001b[36mCell\u001b[39m\u001b[36m \u001b[39m\u001b[32mIn[8]\u001b[39m\u001b[32m, line 1\u001b[39m\n\u001b[32m----> \u001b[39m\u001b[32m1\u001b[39m reshape = \u001b[43marr_10\u001b[49m\u001b[43m.\u001b[49m\u001b[43mreshape\u001b[49m\u001b[43m(\u001b[49m\u001b[32;43m3\u001b[39;49m\u001b[43m,\u001b[49m\u001b[32;43m4\u001b[39;49m\u001b[43m)\u001b[49m\n",
      "\u001b[31mValueError\u001b[39m: cannot reshape array of size 20 into shape (3,4)"
     ]
    }
   ],
   "source": [
    "reshape = arr_10.reshape(3,4)"
   ]
  }
 ],
 "metadata": {
  "kernelspec": {
   "display_name": "Python 3 (ipykernel)",
   "language": "python",
   "name": "python3"
  },
  "language_info": {
   "codemirror_mode": {
    "name": "ipython",
    "version": 3
   },
   "file_extension": ".py",
   "mimetype": "text/x-python",
   "name": "python",
   "nbconvert_exporter": "python",
   "pygments_lexer": "ipython3",
   "version": "3.13.7"
  }
 },
 "nbformat": 4,
 "nbformat_minor": 5
}
