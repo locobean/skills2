{
 "cells": [
  {
   "cell_type": "code",
   "execution_count": 4,
   "id": "6261bb52-ea11-46c4-a129-6edd607ffe1a",
   "metadata": {},
   "outputs": [],
   "source": [
    "import numpy as np\n",
    "\n",
    "#created a python array\n",
    "numbers = [1,2,3,4]\n",
    "\n",
    "#turned array onto numpy array\n",
    "array = np.array(numbers)\n"
   ]
  },
  {
   "cell_type": "code",
   "execution_count": 5,
   "id": "b97214d2-436e-457f-8f3d-15e146b3f395",
   "metadata": {},
   "outputs": [
    {
     "name": "stdout",
     "output_type": "stream",
     "text": [
      "[1, 2, 3, 4]\n"
     ]
    }
   ],
   "source": [
    "# python array\n",
    "print(numbers)"
   ]
  },
  {
   "cell_type": "code",
   "execution_count": 7,
   "id": "e50c1713-da8a-4f19-aa96-861425c4b78b",
   "metadata": {},
   "outputs": [
    {
     "name": "stdout",
     "output_type": "stream",
     "text": [
      "[1 2 3 4]\n"
     ]
    }
   ],
   "source": [
    "# numpy array\n",
    "print(array)\n"
   ]
  },
  {
   "cell_type": "code",
   "execution_count": 9,
   "id": "d21fff81-594a-4e53-8ed2-882bebe3254e",
   "metadata": {},
   "outputs": [
    {
     "name": "stdout",
     "output_type": "stream",
     "text": [
      "[2 4 6 8]\n"
     ]
    }
   ],
   "source": [
    "doubled = array * 2\n",
    "print(doubled)"
   ]
  },
  {
   "cell_type": "code",
   "execution_count": 18,
   "id": "25b0234e-03a7-40c5-bdbf-c12f90a74629",
   "metadata": {},
   "outputs": [
    {
     "name": "stdout",
     "output_type": "stream",
     "text": [
      "[[0. 0. 0.]\n",
      " [0. 0. 0.]]\n"
     ]
    }
   ],
   "source": [
    "# zeros\n",
    "zeros = np.zeros((2,3))\n",
    "print(zeros)"
   ]
  },
  {
   "cell_type": "code",
   "execution_count": 20,
   "id": "fdef293f-bb1c-47d3-a23b-7740c749d402",
   "metadata": {},
   "outputs": [
    {
     "name": "stdout",
     "output_type": "stream",
     "text": [
      "[1. 1. 1.]\n"
     ]
    }
   ],
   "source": [
    "# ones\n",
    "ones = np.ones((3,))\n",
    "print(ones)"
   ]
  },
  {
   "cell_type": "code",
   "execution_count": 21,
   "id": "1facfba3-a859-4e11-ad8f-f848a184ce4d",
   "metadata": {},
   "outputs": [
    {
     "name": "stdout",
     "output_type": "stream",
     "text": [
      "[0 2 4 6 8]\n"
     ]
    }
   ],
   "source": [
    "range_array = np.arange(0,10,2)\n",
    "print(range_array)"
   ]
  },
  {
   "cell_type": "code",
   "execution_count": 23,
   "id": "7f465fce-ed13-40b5-8833-2d44bec82a32",
   "metadata": {},
   "outputs": [],
   "source": [
    "array_1 = [0,1,2,3,4,5,6,7,8,9]"
   ]
  },
  {
   "cell_type": "code",
   "execution_count": 27,
   "id": "54771724-50a7-43f1-80df-3561a6d7a087",
   "metadata": {},
   "outputs": [
    {
     "name": "stdout",
     "output_type": "stream",
     "text": [
      "[0, 1, 2, 3, 4, 5, 6, 7, 8, 9]\n"
     ]
    }
   ],
   "source": [
    "numbers = [0, 1, 2, 3, 4, 5, 6, 7, 8, 9]\n",
    "print(numbers)"
   ]
  },
  {
   "cell_type": "code",
   "execution_count": 29,
   "id": "a0ba726c-cc1c-4cff-b420-bbcc5d513606",
   "metadata": {},
   "outputs": [
    {
     "name": "stdout",
     "output_type": "stream",
     "text": [
      "[0 1 2 3 4 5 6 7 8 9]\n"
     ]
    }
   ],
   "source": [
    "array = np.array(numbers)\n",
    "print(array)"
   ]
  },
  {
   "cell_type": "code",
   "execution_count": 32,
   "id": "7532de1f-7f98-4c51-8dec-2e549bd7e069",
   "metadata": {},
   "outputs": [
    {
     "name": "stdout",
     "output_type": "stream",
     "text": [
      "[[1. 1. 1. 1.]\n",
      " [1. 1. 1. 1.]\n",
      " [1. 1. 1. 1.]\n",
      " [1. 1. 1. 1.]]\n"
     ]
    }
   ],
   "source": [
    "four_ones = np.ones((4,4))\n",
    "print(four_ones)"
   ]
  },
  {
   "cell_type": "code",
   "execution_count": 33,
   "id": "0d8cd5c6-87e6-44e5-9b17-98c8b9325547",
   "metadata": {},
   "outputs": [
    {
     "name": "stdout",
     "output_type": "stream",
     "text": [
      "[0.   0.25 0.5  0.75 1.  ]\n"
     ]
    }
   ],
   "source": [
    "array3 = np.linspace(0,1,5)\n",
    "print(array3)"
   ]
  },
  {
   "cell_type": "code",
   "execution_count": 38,
   "id": "5cd59098-9f6e-4d00-9cd8-66f201d4be3a",
   "metadata": {},
   "outputs": [
    {
     "name": "stdout",
     "output_type": "stream",
     "text": [
      "first element 0\n",
      "last element 50\n",
      "first three [10 20 30]\n",
      "Every other number [10 30 50]\n"
     ]
    }
   ],
   "source": [
    "#indexing & slicing\n",
    "array5 = np.array([10,20,30,40,50])\n",
    "\n",
    "#indexing\n",
    "#get the first element from array5\n",
    "print(\"first element\", array[0])\n",
    "\n",
    "#Get the last element from array5\n",
    "print(\"last element\", array5[-1])\n",
    "\n",
    "#slicing\n",
    "#first three elements from array5\n",
    "print(\"first three\", array5[0:3])\n",
    "#every other element in array 5\n",
    "print(\"Every other number\", array5[::2])\n",
    "\n"
   ]
  },
  {
   "cell_type": "code",
   "execution_count": 40,
   "id": "b116a321-132b-4420-a1ee-9a8e09c622b2",
   "metadata": {},
   "outputs": [
    {
     "name": "stdout",
     "output_type": "stream",
     "text": [
      "Full matrix array [[1 2 3]\n",
      " [4 5 6]\n",
      " [7 8 9]]\n"
     ]
    }
   ],
   "source": [
    "# 2d array slicing and indexing with zero \n",
    "matrix =  np.array([[1,2,3], [4,5,6],[7,8,9]])\n",
    "print(\"Full matrix array\", matrix)"
   ]
  },
  {
   "cell_type": "code",
   "execution_count": 41,
   "id": "1581a81e-628d-4247-a2ee-437cb26e635c",
   "metadata": {},
   "outputs": [
    {
     "name": "stdout",
     "output_type": "stream",
     "text": [
      " 2\n"
     ]
    }
   ],
   "source": [
    "# print the ellemnt a row 1 column 2\n",
    " \n",
    "print(\"\", matrix[0,1])\n",
    "\n"
   ]
  },
  {
   "cell_type": "code",
   "execution_count": 43,
   "id": "42dae64a-ec85-4238-874c-e8fa4e578599",
   "metadata": {},
   "outputs": [
    {
     "name": "stdout",
     "output_type": "stream",
     "text": [
      "every second number row: [2 5 8]\n"
     ]
    }
   ],
   "source": [
    "# pick the second number from every 2nd number\n",
    "print(\"every second number row:\", matrix[:, 1])"
   ]
  },
  {
   "cell_type": "code",
   "execution_count": 44,
   "id": "2d0c29d4-78e8-4f5a-8254-22f4933876f6",
   "metadata": {},
   "outputs": [
    {
     "name": "stdout",
     "output_type": "stream",
     "text": [
      "every row third row number: [3 6 9]\n"
     ]
    }
   ],
   "source": [
    "print(\"every row third row number:\", matrix[:,2])"
   ]
  },
  {
   "cell_type": "code",
   "execution_count": 50,
   "id": "265fc9d2-1fd3-488d-89b5-4847e09173c6",
   "metadata": {},
   "outputs": [
    {
     "name": "stdout",
     "output_type": "stream",
     "text": [
      "[1 2 3 4 5]\n"
     ]
    }
   ],
   "source": [
    "range_array = np.arange(1,11)\n",
    "print(range_array[:5])"
   ]
  },
  {
   "cell_type": "code",
   "execution_count": 55,
   "id": "a428684a-bf0a-42f8-82be-8b25e32e7f29",
   "metadata": {},
   "outputs": [
    {
     "name": "stdout",
     "output_type": "stream",
     "text": [
      "[[1 2 3]\n",
      " [4 5 6]]\n"
     ]
    }
   ],
   "source": [
    "print(matrix [:2,:])"
   ]
  },
  {
   "cell_type": "code",
   "execution_count": 56,
   "id": "69e008b4-2a78-4e81-95e9-81f7d0bf4f11",
   "metadata": {},
   "outputs": [
    {
     "name": "stdout",
     "output_type": "stream",
     "text": [
      "[[1 2 3]\n",
      " [4 5 6]\n",
      " [7 8 9]]\n"
     ]
    }
   ],
   "source": [
    "new_matrix = matrix[-2:-2:]\n",
    "print(matrix)"
   ]
  },
  {
   "cell_type": "code",
   "execution_count": 57,
   "id": "14128d75-719b-44b3-a4e8-2670d915b2e5",
   "metadata": {},
   "outputs": [
    {
     "name": "stdout",
     "output_type": "stream",
     "text": [
      "[ 1  2  3  4  5  6  7  8  9 10 11 12]\n"
     ]
    }
   ],
   "source": [
    "#reshaping arrays\n",
    "new_array= np.arange(1,13)\n",
    "print(new_array)"
   ]
  },
  {
   "cell_type": "code",
   "execution_count": 59,
   "id": "df027b3b-1cb2-4e4b-a298-e7300d8246ce",
   "metadata": {},
   "outputs": [
    {
     "name": "stdout",
     "output_type": "stream",
     "text": [
      "reshaped array [[ 1  2  3  4]\n",
      " [ 5  6  7  8]\n",
      " [ 9 10 11 12]]\n"
     ]
    }
   ],
   "source": [
    "reshaped = new_array.reshape(3,4)\n",
    "print(\"reshaped array\", reshaped)"
   ]
  },
  {
   "cell_type": "code",
   "execution_count": 64,
   "id": "f760ec45-e9e5-4c2f-bb8c-6b02b142b794",
   "metadata": {},
   "outputs": [
    {
     "name": "stdout",
     "output_type": "stream",
     "text": [
      "sub matrix 2x2 top left [[1 2]\n",
      " [5 6]]\n"
     ]
    }
   ],
   "source": [
    "#extract the sub matrix of th etop left 2 x 2\n",
    "print(\"sub matrix 2x2 top left\", reshaped[:2,:2])"
   ]
  },
  {
   "cell_type": "code",
   "execution_count": 65,
   "id": "3bcc0ea9-9f47-4e5d-bfd7-c48d53f0d880",
   "metadata": {},
   "outputs": [
    {
     "name": "stdout",
     "output_type": "stream",
     "text": [
      "[ 1  2  3  4  5  6  7  8  9 10 11 12]\n"
     ]
    }
   ],
   "source": [
    "#flatten array\n",
    "flat = reshaped.flatten()\n",
    "print(flat)"
   ]
  },
  {
   "cell_type": "code",
   "execution_count": null,
   "id": "d7f238f0-bf5b-4de6-b26e-eaacc8ba58b2",
   "metadata": {},
   "outputs": [],
   "source": []
  },
  {
   "cell_type": "code",
   "execution_count": 99,
   "id": "3b192fcf-5521-43ca-8d1e-88bb7f0c86b7",
   "metadata": {},
   "outputs": [
    {
     "name": "stdout",
     "output_type": "stream",
     "text": [
      "[[ 1  2  3  4]\n",
      " [ 5  6  7  8]\n",
      " [ 9 10 11 12]]\n"
     ]
    }
   ],
   "source": [
    "reshape = new_array.reshape(3,4)\n",
    "print(reshape)"
   ]
  },
  {
   "cell_type": "code",
   "execution_count": 100,
   "id": "95d590c1-22ea-4f1a-af64-4999a9c11b3c",
   "metadata": {},
   "outputs": [
    {
     "name": "stdout",
     "output_type": "stream",
     "text": [
      "[[ 5  6  7]\n",
      " [ 9 10 11]]\n"
     ]
    }
   ],
   "source": [
    "print(reshape[1:,:-1])"
   ]
  },
  {
   "cell_type": "code",
   "execution_count": 82,
   "id": "77ce5a7a-94da-420d-84b1-500c68881d8f",
   "metadata": {},
   "outputs": [
    {
     "name": "stdout",
     "output_type": "stream",
     "text": [
      "[ 1  2  3  4  5  6  7  8  9 10 11 12]\n"
     ]
    }
   ],
   "source": [
    "flat = reshape.flatten()\n",
    "print(flat)"
   ]
  }
 ],
 "metadata": {
  "kernelspec": {
   "display_name": "Python 3 (ipykernel)",
   "language": "python",
   "name": "python3"
  },
  "language_info": {
   "codemirror_mode": {
    "name": "ipython",
    "version": 3
   },
   "file_extension": ".py",
   "mimetype": "text/x-python",
   "name": "python",
   "nbconvert_exporter": "python",
   "pygments_lexer": "ipython3",
   "version": "3.13.7"
  }
 },
 "nbformat": 4,
 "nbformat_minor": 5
}
