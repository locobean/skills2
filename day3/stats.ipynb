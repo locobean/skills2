{
 "cells": [
  {
   "cell_type": "code",
   "execution_count": 1,
   "id": "0c01bba1-0033-4e42-a4eb-881726955738",
   "metadata": {},
   "outputs": [],
   "source": [
    "import numpy as np\n"
   ]
  },
  {
   "cell_type": "code",
   "execution_count": 3,
   "id": "a7e7df73-5af9-48e0-98ad-a1cd3c859537",
   "metadata": {},
   "outputs": [
    {
     "name": "stdout",
     "output_type": "stream",
     "text": [
      "Dice rolls [6 5 6 2 1 5 6 2 3 4]\n"
     ]
    }
   ],
   "source": [
    "# create random integers in array\n",
    "dice = np.random.randint(1,7, size=10)\n",
    "print(\"Dice rolls\", dice)\n"
   ]
  },
  {
   "cell_type": "code",
   "execution_count": 4,
   "id": "8c89507e-97b3-499c-a776-7706eed7d2e2",
   "metadata": {},
   "outputs": [
    {
     "name": "stdout",
     "output_type": "stream",
     "text": [
      "rand floats [0.36687655 0.40451558 0.9147474  0.55954919 0.33800418]\n"
     ]
    }
   ],
   "source": [
    "rand_floats = np.random.rand(5) # ran floats\n",
    "print(\"rand floats\", rand_floats)"
   ]
  },
  {
   "cell_type": "code",
   "execution_count": 8,
   "id": "f608631e-7ed4-4f9b-82fd-827ba3b54777",
   "metadata": {},
   "outputs": [
    {
     "ename": "TypeError",
     "evalue": "'numpy.ndarray' object is not callable",
     "output_type": "error",
     "traceback": [
      "\u001b[31m---------------------------------------------------------------------------\u001b[39m",
      "\u001b[31mTypeError\u001b[39m                                 Traceback (most recent call last)",
      "\u001b[36mCell\u001b[39m\u001b[36m \u001b[39m\u001b[32mIn[8]\u001b[39m\u001b[32m, line 3\u001b[39m\n\u001b[32m      1\u001b[39m \u001b[38;5;66;03m#standard deviation\u001b[39;00m\n\u001b[32m      2\u001b[39m norm_sample = np.random.randn(\u001b[32m5\u001b[39m)\n\u001b[32m----> \u001b[39m\u001b[32m3\u001b[39m \u001b[38;5;28;43mprint\u001b[39;49m\u001b[43m(\u001b[49m\u001b[43mnorm_sample\u001b[49m\u001b[43m)\u001b[49m\n",
      "\u001b[31mTypeError\u001b[39m: 'numpy.ndarray' object is not callable"
     ]
    }
   ],
   "source": [
    "#standard deviation\n",
    "norm_sample = np.random.randn(5)\n",
    "print(norm_sample)"
   ]
  },
  {
   "cell_type": "code",
   "execution_count": 6,
   "id": "3387b3fa-ea69-41bb-942d-ae930919e47c",
   "metadata": {},
   "outputs": [
    {
     "name": "stdout",
     "output_type": "stream",
     "text": [
      "[4 4 5 2 5 5 5 2 3 5 4 3 2 1 3 4 4 2 2 3]\n"
     ]
    }
   ],
   "source": [
    "import numpy as np\n",
    "dice2 = np.random.randint(1,6, size=20)\n",
    "print(dice2)"
   ]
  },
  {
   "cell_type": "code",
   "execution_count": 5,
   "id": "fec69b2a-98b9-45fa-9249-4e25b1aa34cb",
   "metadata": {},
   "outputs": [
    {
     "name": "stdout",
     "output_type": "stream",
     "text": [
      "[0.40031701 0.4510947  0.05228381 0.97459305 0.40702369 0.45387948\n",
      " 0.89856491 0.70154953 0.25954617 0.21889059]\n"
     ]
    }
   ],
   "source": [
    "import numpy as np\n",
    "dice3 = np.random.rand(10)\n",
    "print(dice3)"
   ]
  },
  {
   "cell_type": "code",
   "execution_count": 8,
   "id": "6602fd62-90fa-461e-86f9-bb797c1b99f3",
   "metadata": {},
   "outputs": [
    {
     "name": "stdout",
     "output_type": "stream",
     "text": [
      "[ 0.99130475 -0.20976801  1.41588653 -0.14222425 -0.55925772  0.04607274\n",
      "  0.09981413 -0.02283336  1.42197202  0.47364698]\n"
     ]
    }
   ],
   "source": [
    "normal_sample = np.random.randn(1000)\n",
    "print(normal_sample[:10])"
   ]
  },
  {
   "cell_type": "code",
   "execution_count": 17,
   "id": "5e07b86d-4c67-49f1-b8f7-65281f478dec",
   "metadata": {},
   "outputs": [
    {
     "name": "stdout",
     "output_type": "stream",
     "text": [
      "sum: 164\n",
      "mean: 3.28\n",
      "median: 3.0\n",
      "standard deviation: 1.6497272501841025\n",
      "min: 1\n",
      "max: 6\n"
     ]
    }
   ],
   "source": [
    "import numpy as np\n",
    "\n",
    "# 50 dice rolls (values between 1 and 6)\n",
    "dice = np.random.randint(1, 7, size=50)\n",
    "\n",
    "# find the methods to give you the sum, mean, median, standard deviation, min, max\n",
    "\n",
    "# calculations\n",
    "print(\"sum:\", np.sum(dice))\n",
    "print(\"mean:\", np.mean(dice))\n",
    "print(\"median:\", np.median(dice))\n",
    "print(\"standard deviation:\", np.std(dice))\n",
    "print(\"min:\", np.min(dice))\n",
    "print(\"max:\", np.max(dice))\n"
   ]
  }
 ],
 "metadata": {
  "kernelspec": {
   "display_name": "Python 3 (ipykernel)",
   "language": "python",
   "name": "python3"
  },
  "language_info": {
   "codemirror_mode": {
    "name": "ipython",
    "version": 3
   },
   "file_extension": ".py",
   "mimetype": "text/x-python",
   "name": "python",
   "nbconvert_exporter": "python",
   "pygments_lexer": "ipython3",
   "version": "3.13.7"
  }
 },
 "nbformat": 4,
 "nbformat_minor": 5
}
