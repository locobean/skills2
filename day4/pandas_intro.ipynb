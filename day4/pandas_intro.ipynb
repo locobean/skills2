{
 "cells": [
  {
   "cell_type": "code",
   "execution_count": 6,
   "id": "7b51f67e-42e8-4428-973b-1960fad5f279",
   "metadata": {},
   "outputs": [
    {
     "name": "stdout",
     "output_type": "stream",
     "text": [
      "0    10\n",
      "1    20\n",
      "2    30\n",
      "3    40\n",
      "4    50\n",
      "dtype: int64\n"
     ]
    }
   ],
   "source": [
    "#create pandas series\n",
    "import pandas as pd\n",
    "data = [10,20,30,40, 50]\n",
    "series = pd.Series(data)\n",
    "print(series)"
   ]
  },
  {
   "cell_type": "code",
   "execution_count": 8,
   "id": "41ac795f-60b3-4bee-8bf0-ef933704b08e",
   "metadata": {},
   "outputs": [
    {
     "name": "stdout",
     "output_type": "stream",
     "text": [
      "[10 20 30 40 50]\n",
      "RangeIndex(start=0, stop=5, step=1)\n"
     ]
    }
   ],
   "source": [
    "#Access series value\n",
    "#values\n",
    "print(series.values)\n",
    "#index\n",
    "print(series.index)"
   ]
  },
  {
   "cell_type": "code",
   "execution_count": 14,
   "id": "b17777aa-f873-4183-9cc3-221515f49946",
   "metadata": {},
   "outputs": [
    {
     "name": "stdout",
     "output_type": "stream",
     "text": [
      "40\n",
      "19\n",
      "['Mon', 'Tue', 'Wed', 'Thu', 'Fri']\n"
     ]
    }
   ],
   "source": [
    "temp = [19, 20, 25, 30, 40,]\n",
    "series = pd.Series(temp)\n",
    "print(max(series))\n",
    "print(min(series))\n",
    "\n",
    "week_days = series.index = [\"Mon\", \"Tue\", \"Wed\", \"Thu\", \"Fri\"]\n",
    "print(week_days)\n",
    "\n",
    "\n",
    "\n",
    "\n",
    "\n"
   ]
  },
  {
   "cell_type": "code",
   "execution_count": 16,
   "id": "a674bc53-a39b-4c88-a220-29d5810cfd18",
   "metadata": {},
   "outputs": [
    {
     "name": "stdout",
     "output_type": "stream",
     "text": [
      "    Name  Age       City\n",
      "0  Ollie   32    Reading\n",
      "1    Sam   27     London\n",
      "2   Luke   27  The North\n",
      "3   Liam   30     London\n"
     ]
    }
   ],
   "source": [
    "#Dataframe\n",
    "data = {\n",
    "    \"Name\": [\"Ollie\", \"Sam\", \"Luke\", \"Liam\"],\n",
    "    \"Age\": [32, 27, 27, 30],\n",
    "    \"City\": [\"Reading\", \"London\", \"The North\", \"London\"]\n",
    "}\n",
    "\n",
    "df = pd.DataFrame(data)\n",
    "print(df)"
   ]
  },
  {
   "cell_type": "code",
   "execution_count": 21,
   "id": "6020816d-6312-4f86-9837-ce68e5fb856c",
   "metadata": {},
   "outputs": [
    {
     "name": "stdout",
     "output_type": "stream",
     "text": [
      "              name  price  quantity\n",
      "0  white chocolate    2.5        57\n",
      "1   dark chocolate    4.9      2000\n",
      "2   milk chocolate    3.2        25\n",
      "              name  price  quantity  Total Value    test\n",
      "0  white chocolate    2.5        57        142.5   142.5\n",
      "1   dark chocolate    4.9      2000       9800.0  9800.0\n",
      "2   milk chocolate    3.2        25         80.0    80.0\n"
     ]
    }
   ],
   "source": [
    "#Products dataframe\n",
    "data2 = {\n",
    "\n",
    "'name': ['white chocolate', 'dark chocolate', 'milk chocolate'],\n",
    "\n",
    "'price': [2.5, 4.9, 3.2],\n",
    "\n",
    "'quantity': [57, 2000, 25]\n",
    "\n",
    "}\n",
    "\n",
    " \n",
    "\n",
    "dfchoc = pd.DataFrame(data2)\n",
    "\n",
    "print(dfchoc)\n",
    "\n",
    "dfchoc['Total Value'] = dfchoc['price'] * dfchoc['quantity']\n",
    "\n",
    "print(dfchoc)\n",
    "\n"
   ]
  },
  {
   "cell_type": "code",
   "execution_count": 6,
   "id": "4f085842-0f83-4b5e-be0b-274e3cb01a75",
   "metadata": {},
   "outputs": [
    {
     "name": "stdout",
     "output_type": "stream",
     "text": [
      "              name  price  quantity\n",
      "0  White Chocolate    2.5        57\n",
      "1   Dark Chocolate    4.9      2000\n",
      "2   Milk Chocolate    3.2        25\n"
     ]
    }
   ],
   "source": [
    "import pandas as pd \n",
    "\n",
    "# products dataframe: \n",
    "\n",
    "products = {\n",
    "    'name': ['White Chocolate', 'Dark Chocolate', 'Milk Chocolate'],\n",
    "    'price': [2.5, 4.9, 3.2],\n",
    "    'quantity': [57, 2000, 25]\n",
    "}\n",
    "dfprod = pd.DataFrame(products)\n",
    "print(dfprod)\n",
    "\n",
    "    "
   ]
  },
  {
   "cell_type": "code",
   "execution_count": 11,
   "id": "2d569660-f102-441c-b8b7-6420dd6d692d",
   "metadata": {},
   "outputs": [
    {
     "name": "stdout",
     "output_type": "stream",
     "text": [
      "              name  price  quantity        colour         color\n",
      "0  White Chocolate    2.5        57         ivory         ivory\n",
      "1   Dark Chocolate    4.9      2000    dark brown    dark brown\n",
      "2   Milk Chocolate    3.2        25  medium brown  medium brown\n"
     ]
    }
   ],
   "source": [
    "#dfprod.insert(3, 'colour', ['ivory', 'dark brown', 'medium brown'])\n",
    "print(dfprod)"
   ]
  },
  {
   "cell_type": "code",
   "execution_count": 15,
   "id": "d6c63626-0d62-4cf4-b2c0-eb63283e7e29",
   "metadata": {},
   "outputs": [
    {
     "name": "stdout",
     "output_type": "stream",
     "text": [
      "              name  price  quantity        colour         color  Total Value\n",
      "0  White Chocolate    2.5        57         ivory         ivory        142.5\n",
      "1   Dark Chocolate    4.9      2000    dark brown    dark brown       9800.0\n",
      "2   Milk Chocolate    3.2        25  medium brown  medium brown         80.0\n"
     ]
    }
   ],
   "source": [
    "#add a new column for  \"to'Total Value' (price x quantity)\n",
    "dfprod['Total Value']=  dfprod['price'] * dfprod['quantity']\n",
    "print(dfprod)"
   ]
  },
  {
   "cell_type": "code",
   "execution_count": null,
   "id": "c06408ad-944b-4e10-ac2d-3dfa6e45bb87",
   "metadata": {},
   "outputs": [],
   "source": []
  },
  {
   "cell_type": "code",
   "execution_count": 23,
   "id": "a7cc5681-0a4b-4377-86ca-12e88c8fa8e7",
   "metadata": {},
   "outputs": [
    {
     "name": "stdout",
     "output_type": "stream",
     "text": [
      "       Name      School Grade  Score\n",
      "0  Student1   West High     A     92\n",
      "1  Student2  South High     F      6\n",
      "2  Student3  North High     D     64\n",
      "3  Student4   West High     B     88\n",
      "4  Student5   West High     A     96\n"
     ]
    }
   ],
   "source": [
    "df = pd.read_csv(\"students_with_scores.csv\")\n",
    "\n",
    "#inspect first five rows\n",
    "print(df.head())"
   ]
  },
  {
   "cell_type": "code",
   "execution_count": 24,
   "id": "11d8f349-0f94-4997-8665-6364367d1bd2",
   "metadata": {},
   "outputs": [
    {
     "name": "stdout",
     "output_type": "stream",
     "text": [
      "         Name      School Grade  Score\n",
      "15  Student16  North High     C     76\n",
      "16  Student17  South High     A     97\n",
      "17  Student18  South High     C     72\n",
      "18  Student19  South High     C     70\n",
      "19  Student20   West High     A     93\n"
     ]
    }
   ],
   "source": [
    "print(df.tail())"
   ]
  },
  {
   "cell_type": "code",
   "execution_count": 16,
   "id": "5fc14f91-0bb7-4e61-a7ac-6759211ae083",
   "metadata": {},
   "outputs": [
    {
     "ename": "NameError",
     "evalue": "name 'df' is not defined",
     "output_type": "error",
     "traceback": [
      "\u001b[31m---------------------------------------------------------------------------\u001b[39m",
      "\u001b[31mNameError\u001b[39m                                 Traceback (most recent call last)",
      "\u001b[36mCell\u001b[39m\u001b[36m \u001b[39m\u001b[32mIn[16]\u001b[39m\u001b[32m, line 2\u001b[39m\n\u001b[32m      1\u001b[39m \u001b[38;5;66;03m#check shape\u001b[39;00m\n\u001b[32m----> \u001b[39m\u001b[32m2\u001b[39m \u001b[38;5;28mprint\u001b[39m(\u001b[43mdf\u001b[49m.shape)\n\u001b[32m      4\u001b[39m \u001b[38;5;66;03m#check column name\u001b[39;00m\n\u001b[32m      5\u001b[39m \u001b[38;5;28mprint\u001b[39m(df.columns)\n",
      "\u001b[31mNameError\u001b[39m: name 'df' is not defined"
     ]
    }
   ],
   "source": [
    "#check shape\n",
    "print(df.shape)\n",
    "\n",
    "#check column name\n",
    "print(df.columns)\n",
    "    \n",
    "#check the summary stats\n",
    "print(df.describe())\n",
    "\n",
    "#information on data types and values\n",
    "print(df.info())"
   ]
  },
  {
   "cell_type": "code",
   "execution_count": 41,
   "id": "8e6b7475-e200-4c4e-9135-8af6d3aed230",
   "metadata": {},
   "outputs": [
    {
     "name": "stdout",
     "output_type": "stream",
     "text": [
      "       Name      School Grade  Score\n",
      "0  Student1   West High     A     92\n",
      "1  Student2  South High     F      6\n",
      "2  Student3  North High     D     64\n",
      "       Name Grade\n",
      "0  Student1     A\n",
      "1  Student2     F\n",
      "2  Student3     D\n",
      "Name       Student1\n",
      "School    West High\n",
      "Grade             A\n",
      "Score            92\n",
      "Name: 0, dtype: object\n",
      "       Name      School\n",
      "0  Student1   West High\n",
      "1  Student2  South High\n"
     ]
    }
   ],
   "source": [
    "'''# Indexing using .loc & .iloc\n",
    "#single column\n",
    "print(df[\"Name\"])\n",
    "#multilple columns\n",
    "print(df[[\"Name\",\"School\"]])'''\n",
    "\n",
    "# row by label using loc\n",
    "print(df.loc[0:2])\n",
    "\n",
    "#specify rows and columns\n",
    "print(df.loc[0:2, [\"Name\", \"Grade\"]])\n",
    "\n",
    "#.iloc\n",
    "\n",
    "print(df.iloc[0])\n",
    "\n",
    "# specify rows and columns\n",
    "\n",
    "print(df.iloc[0:3, 0:2])\n",
    "\n",
    "\n",
    "\n"
   ]
  },
  {
   "cell_type": "code",
   "execution_count": 21,
   "id": "4521b35c-b480-4ec1-9f13-8943406fffb3",
   "metadata": {},
   "outputs": [
    {
     "name": "stdout",
     "output_type": "stream",
     "text": [
      "0      Student1\n",
      "1      Student2\n",
      "2      Student3\n",
      "3      Student4\n",
      "4      Student5\n",
      "5      Student6\n",
      "6      Student7\n",
      "7      Student8\n",
      "8      Student9\n",
      "9     Student10\n",
      "10    Student11\n",
      "11    Student12\n",
      "12    Student13\n",
      "13    Student14\n",
      "14    Student15\n",
      "15    Student16\n",
      "16    Student17\n",
      "17    Student18\n",
      "18    Student19\n",
      "19    Student20\n",
      "Name: Name, dtype: object\n"
     ]
    },
    {
     "ename": "KeyError",
     "evalue": "('Name', 'School')",
     "output_type": "error",
     "traceback": [
      "\u001b[31m---------------------------------------------------------------------------\u001b[39m",
      "\u001b[31mKeyError\u001b[39m                                  Traceback (most recent call last)",
      "\u001b[36mFile \u001b[39m\u001b[32m~\\PycharmProjects\\skills2\\.venv\\Lib\\site-packages\\pandas\\core\\indexes\\base.py:3812\u001b[39m, in \u001b[36mIndex.get_loc\u001b[39m\u001b[34m(self, key)\u001b[39m\n\u001b[32m   3811\u001b[39m \u001b[38;5;28;01mtry\u001b[39;00m:\n\u001b[32m-> \u001b[39m\u001b[32m3812\u001b[39m     \u001b[38;5;28;01mreturn\u001b[39;00m \u001b[38;5;28;43mself\u001b[39;49m\u001b[43m.\u001b[49m\u001b[43m_engine\u001b[49m\u001b[43m.\u001b[49m\u001b[43mget_loc\u001b[49m\u001b[43m(\u001b[49m\u001b[43mcasted_key\u001b[49m\u001b[43m)\u001b[49m\n\u001b[32m   3813\u001b[39m \u001b[38;5;28;01mexcept\u001b[39;00m \u001b[38;5;167;01mKeyError\u001b[39;00m \u001b[38;5;28;01mas\u001b[39;00m err:\n",
      "\u001b[36mFile \u001b[39m\u001b[32mpandas/_libs/index.pyx:167\u001b[39m, in \u001b[36mpandas._libs.index.IndexEngine.get_loc\u001b[39m\u001b[34m()\u001b[39m\n",
      "\u001b[36mFile \u001b[39m\u001b[32mpandas/_libs/index.pyx:196\u001b[39m, in \u001b[36mpandas._libs.index.IndexEngine.get_loc\u001b[39m\u001b[34m()\u001b[39m\n",
      "\u001b[36mFile \u001b[39m\u001b[32mpandas/_libs/hashtable_class_helper.pxi:7088\u001b[39m, in \u001b[36mpandas._libs.hashtable.PyObjectHashTable.get_item\u001b[39m\u001b[34m()\u001b[39m\n",
      "\u001b[36mFile \u001b[39m\u001b[32mpandas/_libs/hashtable_class_helper.pxi:7096\u001b[39m, in \u001b[36mpandas._libs.hashtable.PyObjectHashTable.get_item\u001b[39m\u001b[34m()\u001b[39m\n",
      "\u001b[31mKeyError\u001b[39m: ('Name', 'School')",
      "\nThe above exception was the direct cause of the following exception:\n",
      "\u001b[31mKeyError\u001b[39m                                  Traceback (most recent call last)",
      "\u001b[36mCell\u001b[39m\u001b[36m \u001b[39m\u001b[32mIn[21]\u001b[39m\u001b[32m, line 6\u001b[39m\n\u001b[32m      3\u001b[39m \u001b[38;5;28mprint\u001b[39m(df[\u001b[33m\"\u001b[39m\u001b[33mName\u001b[39m\u001b[33m\"\u001b[39m])\n\u001b[32m      5\u001b[39m \u001b[38;5;66;03m# Multiple  columns\u001b[39;00m\n\u001b[32m----> \u001b[39m\u001b[32m6\u001b[39m \u001b[38;5;28mprint\u001b[39m(\u001b[43mdf\u001b[49m\u001b[43m[\u001b[49m\u001b[33;43m\"\u001b[39;49m\u001b[33;43mName\u001b[39;49m\u001b[33;43m\"\u001b[39;49m\u001b[43m,\u001b[49m\u001b[43m \u001b[49m\u001b[33;43m\"\u001b[39;49m\u001b[33;43mSchool\u001b[39;49m\u001b[33;43m\"\u001b[39;49m\u001b[43m]\u001b[49m)\n",
      "\u001b[36mFile \u001b[39m\u001b[32m~\\PycharmProjects\\skills2\\.venv\\Lib\\site-packages\\pandas\\core\\frame.py:4107\u001b[39m, in \u001b[36mDataFrame.__getitem__\u001b[39m\u001b[34m(self, key)\u001b[39m\n\u001b[32m   4105\u001b[39m \u001b[38;5;28;01mif\u001b[39;00m \u001b[38;5;28mself\u001b[39m.columns.nlevels > \u001b[32m1\u001b[39m:\n\u001b[32m   4106\u001b[39m     \u001b[38;5;28;01mreturn\u001b[39;00m \u001b[38;5;28mself\u001b[39m._getitem_multilevel(key)\n\u001b[32m-> \u001b[39m\u001b[32m4107\u001b[39m indexer = \u001b[38;5;28;43mself\u001b[39;49m\u001b[43m.\u001b[49m\u001b[43mcolumns\u001b[49m\u001b[43m.\u001b[49m\u001b[43mget_loc\u001b[49m\u001b[43m(\u001b[49m\u001b[43mkey\u001b[49m\u001b[43m)\u001b[49m\n\u001b[32m   4108\u001b[39m \u001b[38;5;28;01mif\u001b[39;00m is_integer(indexer):\n\u001b[32m   4109\u001b[39m     indexer = [indexer]\n",
      "\u001b[36mFile \u001b[39m\u001b[32m~\\PycharmProjects\\skills2\\.venv\\Lib\\site-packages\\pandas\\core\\indexes\\base.py:3819\u001b[39m, in \u001b[36mIndex.get_loc\u001b[39m\u001b[34m(self, key)\u001b[39m\n\u001b[32m   3814\u001b[39m     \u001b[38;5;28;01mif\u001b[39;00m \u001b[38;5;28misinstance\u001b[39m(casted_key, \u001b[38;5;28mslice\u001b[39m) \u001b[38;5;129;01mor\u001b[39;00m (\n\u001b[32m   3815\u001b[39m         \u001b[38;5;28misinstance\u001b[39m(casted_key, abc.Iterable)\n\u001b[32m   3816\u001b[39m         \u001b[38;5;129;01mand\u001b[39;00m \u001b[38;5;28many\u001b[39m(\u001b[38;5;28misinstance\u001b[39m(x, \u001b[38;5;28mslice\u001b[39m) \u001b[38;5;28;01mfor\u001b[39;00m x \u001b[38;5;129;01min\u001b[39;00m casted_key)\n\u001b[32m   3817\u001b[39m     ):\n\u001b[32m   3818\u001b[39m         \u001b[38;5;28;01mraise\u001b[39;00m InvalidIndexError(key)\n\u001b[32m-> \u001b[39m\u001b[32m3819\u001b[39m     \u001b[38;5;28;01mraise\u001b[39;00m \u001b[38;5;167;01mKeyError\u001b[39;00m(key) \u001b[38;5;28;01mfrom\u001b[39;00m\u001b[38;5;250m \u001b[39m\u001b[34;01merr\u001b[39;00m\n\u001b[32m   3820\u001b[39m \u001b[38;5;28;01mexcept\u001b[39;00m \u001b[38;5;167;01mTypeError\u001b[39;00m:\n\u001b[32m   3821\u001b[39m     \u001b[38;5;66;03m# If we have a listlike key, _check_indexing_error will raise\u001b[39;00m\n\u001b[32m   3822\u001b[39m     \u001b[38;5;66;03m#  InvalidIndexError. Otherwise we fall through and re-raise\u001b[39;00m\n\u001b[32m   3823\u001b[39m     \u001b[38;5;66;03m#  the TypeError.\u001b[39;00m\n\u001b[32m   3824\u001b[39m     \u001b[38;5;28mself\u001b[39m._check_indexing_error(key)\n",
      "\u001b[31mKeyError\u001b[39m: ('Name', 'School')"
     ]
    }
   ],
   "source": [
    "#single column\n",
    "df = pd.read_csv(\"students_with_scores.csv\")\n",
    "print(df[\"Name\"])"
   ]
  },
  {
   "cell_type": "code",
   "execution_count": 24,
   "id": "d1c8a94c-8cf8-48f7-a219-8fe46cf7ed0d",
   "metadata": {},
   "outputs": [
    {
     "name": "stdout",
     "output_type": "stream",
     "text": [
      "         Name      School\n",
      "0    Student1   West High\n",
      "1    Student2  South High\n",
      "2    Student3  North High\n",
      "3    Student4   West High\n",
      "4    Student5   West High\n",
      "5    Student6  South High\n",
      "6    Student7  North High\n",
      "7    Student8  North High\n",
      "8    Student9   West High\n",
      "9   Student10   East High\n",
      "10  Student11   West High\n",
      "11  Student12   West High\n",
      "12  Student13   West High\n",
      "13  Student14   West High\n",
      "14  Student15  South High\n",
      "15  Student16  North High\n",
      "16  Student17  South High\n",
      "17  Student18  South High\n",
      "18  Student19  South High\n",
      "19  Student20   West High\n"
     ]
    }
   ],
   "source": [
    "# Multiple  columns\n",
    "print(df[[\"Name\", \"School\"]])"
   ]
  },
  {
   "cell_type": "code",
   "execution_count": 27,
   "id": "cbc39303-00bc-4b18-8239-549b9922de02",
   "metadata": {},
   "outputs": [
    {
     "name": "stdout",
     "output_type": "stream",
     "text": [
      "       Name      School Grade  Score\n",
      "0  Student1   West High     A     92\n",
      "1  Student2  South High     F      6\n",
      "2  Student3  North High     D     64\n"
     ]
    }
   ],
   "source": [
    "# row by label using loc\n",
    "print(df.loc[0:2])\n"
   ]
  },
  {
   "cell_type": "code",
   "execution_count": 44,
   "id": "637e1e5f-370c-494d-90d5-1e4860862a96",
   "metadata": {},
   "outputs": [
    {
     "name": "stdout",
     "output_type": "stream",
     "text": [
      "       Name Grade\n",
      "0  Student1     A\n",
      "1  Student2     F\n",
      "2  Student3     D\n"
     ]
    }
   ],
   "source": [
    "\n",
    "print(df.loc[0:2, [\"Name\", \"Grade\"]])"
   ]
  },
  {
   "cell_type": "code",
   "execution_count": 45,
   "id": "2d87ba07-d634-4eb5-9ca1-2d5cf58170ec",
   "metadata": {},
   "outputs": [
    {
     "name": "stdout",
     "output_type": "stream",
     "text": [
      "       Name     School Grade  Score\n",
      "0  Student1  West High     A     92\n"
     ]
    }
   ],
   "source": [
    "print(df.loc[0:0])"
   ]
  },
  {
   "cell_type": "code",
   "execution_count": 29,
   "id": "a7349522-a841-44a4-a9eb-32f81b9a4e9b",
   "metadata": {},
   "outputs": [
    {
     "name": "stdout",
     "output_type": "stream",
     "text": [
      "       Name Grade\n",
      "3  Student4     B\n",
      "4  Student5     A\n",
      "5  Student6     A\n",
      "6  Student7     B\n"
     ]
    }
   ],
   "source": [
    "print(df.loc[3:6, [\"Name\", \"Grade\"]])"
   ]
  },
  {
   "cell_type": "code",
   "execution_count": 56,
   "id": "7d8bfb37-726a-4b85-b0fb-5fc820c64a7b",
   "metadata": {},
   "outputs": [
    {
     "name": "stdout",
     "output_type": "stream",
     "text": [
      "         Name      School Grade  Score\n",
      "18  Student19  South High     C     70\n",
      "19  Student20   West High     A     93\n"
     ]
    }
   ],
   "source": [
    "print(df.tail(2))\n"
   ]
  },
  {
   "cell_type": "code",
   "execution_count": 32,
   "id": "85ea16c2-c3fc-4298-a729-2b0a89f2ee61",
   "metadata": {},
   "outputs": [
    {
     "name": "stdout",
     "output_type": "stream",
     "text": [
      "Name       Student1\n",
      "School    West High\n",
      "Grade             A\n",
      "Score            92\n",
      "Name: 0, dtype: object\n",
      "       Name      School\n",
      "0  Student1   West High\n",
      "1  Student2  South High\n"
     ]
    }
   ],
   "source": [
    "# .iloc\n",
    "print(df.iloc[0])\n",
    "\n",
    "#specify rows and columns\n",
    "print(df.iloc[0:2,0:2])\n",
    "\n",
    "#print(df.iloc[0:2,[df.columns.get_loc(\"Score\")]])"
   ]
  },
  {
   "cell_type": "code",
   "execution_count": 61,
   "id": "c9328413-a10f-4e14-8afd-e60eb30da54f",
   "metadata": {},
   "outputs": [
    {
     "name": "stdout",
     "output_type": "stream",
     "text": [
      "         Name      School Grade  Score\n",
      "11  Student12   West High     A     99\n",
      "16  Student17  South High     A     97\n",
      "4    Student5   West High     A     96\n",
      "19  Student20   West High     A     93\n",
      "0    Student1   West High     A     92\n",
      "5    Student6  South High     A     91\n",
      "9   Student10   East High     B     89\n",
      "3    Student4   West High     B     88\n",
      "12  Student13   West High     B     84\n",
      "6    Student7  North High     B     83\n",
      "14  Student15  South High     B     83\n",
      "13  Student14   West High     B     81\n",
      "8    Student9   West High     B     81\n",
      "7    Student8  North High     C     78\n",
      "10  Student11   West High     C     78\n",
      "15  Student16  North High     C     76\n",
      "17  Student18  South High     C     72\n",
      "18  Student19  South High     C     70\n",
      "2    Student3  North High     D     64\n",
      "1    Student2  South High     F      6\n"
     ]
    }
   ],
   "source": [
    "print(df.sort_values(by=\"Score\", ascending=False))"
   ]
  },
  {
   "cell_type": "code",
   "execution_count": 63,
   "id": "cd54ac8d-72d9-4a01-bd2e-673149494edc",
   "metadata": {},
   "outputs": [
    {
     "name": "stdout",
     "output_type": "stream",
     "text": [
      "         Name      School Grade  Score\n",
      "0    Student1   West High     A     92\n",
      "3    Student4   West High     B     88\n",
      "4    Student5   West High     A     96\n",
      "5    Student6  South High     A     91\n",
      "6    Student7  North High     B     83\n",
      "8    Student9   West High     B     81\n",
      "9   Student10   East High     B     89\n",
      "11  Student12   West High     A     99\n",
      "12  Student13   West High     B     84\n",
      "13  Student14   West High     B     81\n",
      "14  Student15  South High     B     83\n",
      "16  Student17  South High     A     97\n",
      "19  Student20   West High     A     93\n"
     ]
    }
   ],
   "source": [
    "print(df[df[\"Score\"] > 80])"
   ]
  },
  {
   "cell_type": "code",
   "execution_count": 39,
   "id": "4fdc3025-b8cb-4f91-a535-449ef79f9f50",
   "metadata": {},
   "outputs": [
    {
     "name": "stdout",
     "output_type": "stream",
     "text": [
      "       Name  Score\n",
      "0  Student1     92\n",
      "1  Student2      6\n",
      "2  Student3     64\n"
     ]
    }
   ],
   "source": [
    "#Names and scores of first 3 students\n",
    "print(df.loc[0:2, [\"Name\", \"Score\"]])"
   ]
  },
  {
   "cell_type": "code",
   "execution_count": 41,
   "id": "f8903800-95a9-405c-b3fe-b6868e885849",
   "metadata": {},
   "outputs": [
    {
     "name": "stdout",
     "output_type": "stream",
     "text": [
      " All students at South High :=          Name      School Grade  Score\n",
      "1    Student2  South High     F      6\n",
      "5    Student6  South High     A     91\n",
      "14  Student15  South High     B     83\n",
      "16  Student17  South High     A     97\n",
      "17  Student18  South High     C     72\n",
      "18  Student19  South High     C     70\n"
     ]
    }
   ],
   "source": [
    "# All students from a specific school\n",
    "school_name = \"South High\"\n",
    "print(\" All students at\", school_name, \":=\", df[df[\"School\"] == school_name])"
   ]
  },
  {
   "cell_type": "code",
   "execution_count": 43,
   "id": "3868163f-a01e-4b68-b10d-29b7a570ff19",
   "metadata": {},
   "outputs": [
    {
     "name": "stdout",
     "output_type": "stream",
     "text": [
      "18    70\n",
      "19    93\n",
      "Name: Score, dtype: int64\n"
     ]
    }
   ],
   "source": [
    "# Score of the last 2 students\n",
    "print(df.iloc[-2:, df.columns.get_loc(\"Score\")])"
   ]
  },
  {
   "cell_type": "code",
   "execution_count": 48,
   "id": "c17bc865-339f-4d93-b218-f4fe4bee5aad",
   "metadata": {},
   "outputs": [
    {
     "name": "stdout",
     "output_type": "stream",
     "text": [
      "         Name      School Grade  Score\n",
      "1    Student2  South High     F      6\n",
      "2    Student3  North High     D     64\n",
      "18  Student19  South High     C     70\n",
      "17  Student18  South High     C     72\n",
      "15  Student16  North High     C     76\n",
      "7    Student8  North High     C     78\n",
      "10  Student11   West High     C     78\n",
      "13  Student14   West High     B     81\n",
      "8    Student9   West High     B     81\n",
      "6    Student7  North High     B     83\n",
      "14  Student15  South High     B     83\n",
      "12  Student13   West High     B     84\n",
      "3    Student4   West High     B     88\n",
      "9   Student10   East High     B     89\n",
      "5    Student6  South High     A     91\n",
      "0    Student1   West High     A     92\n",
      "19  Student20   West High     A     93\n",
      "4    Student5   West High     A     96\n",
      "16  Student17  South High     A     97\n",
      "11  Student12   West High     A     99\n"
     ]
    }
   ],
   "source": [
    "# sort by defending order\n",
    "print(df.sort_values(by=\"Score\", ascending=True))"
   ]
  },
  {
   "cell_type": "code",
   "execution_count": 49,
   "id": "68266ef2-3b0c-40ac-8df0-e2c47e9c2a6e",
   "metadata": {},
   "outputs": [
    {
     "name": "stdout",
     "output_type": "stream",
     "text": [
      "         Name      School Grade  Score\n",
      "0    Student1   West High     A     92\n",
      "3    Student4   West High     B     88\n",
      "4    Student5   West High     A     96\n",
      "5    Student6  South High     A     91\n",
      "6    Student7  North High     B     83\n",
      "8    Student9   West High     B     81\n",
      "9   Student10   East High     B     89\n",
      "11  Student12   West High     A     99\n",
      "12  Student13   West High     B     84\n",
      "13  Student14   West High     B     81\n",
      "14  Student15  South High     B     83\n",
      "16  Student17  South High     A     97\n",
      "19  Student20   West High     A     93\n"
     ]
    }
   ],
   "source": [
    "# filter students with score above 80\n",
    "print(df[df[\"Score\"] > 80])"
   ]
  },
  {
   "cell_type": "code",
   "execution_count": null,
   "id": "c0178dd8-12a7-42e7-b1df-2ff612550ab4",
   "metadata": {},
   "outputs": [],
   "source": [
    "# Average score per school\n"
   ]
  }
 ],
 "metadata": {
  "kernelspec": {
   "display_name": "Python 3 (ipykernel)",
   "language": "python",
   "name": "python3"
  },
  "language_info": {
   "codemirror_mode": {
    "name": "ipython",
    "version": 3
   },
   "file_extension": ".py",
   "mimetype": "text/x-python",
   "name": "python",
   "nbconvert_exporter": "python",
   "pygments_lexer": "ipython3",
   "version": "3.13.7"
  }
 },
 "nbformat": 4,
 "nbformat_minor": 5
}
