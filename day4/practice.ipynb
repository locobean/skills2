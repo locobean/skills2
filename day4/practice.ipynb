{
 "cells": [
  {
   "cell_type": "code",
   "execution_count": 1,
   "id": "8fb2e0b6-f672-4620-acc3-62356223676c",
   "metadata": {
    "ExecuteTime": {
     "end_time": "2025-09-18T16:14:34.482254Z",
     "start_time": "2025-09-18T16:14:33.270815Z"
    }
   },
   "outputs": [],
   "source": [
    "import pandas as pd"
   ]
  },
  {
   "cell_type": "code",
   "execution_count": 3,
   "id": "11adf076-3010-47c1-b709-0fe33f384822",
   "metadata": {},
   "outputs": [
    {
     "name": "stdout",
     "output_type": "stream",
     "text": [
      "0    10\n",
      "1    20\n",
      "2    30\n",
      "3    40\n",
      "4    50\n",
      "dtype: int64\n"
     ]
    }
   ],
   "source": [
    "#series in pandas - 1d\n",
    "data = [10,20,30,40,50]\n",
    "series = pd.Series(data)\n",
    "print(series)"
   ]
  },
  {
   "cell_type": "code",
   "id": "4d803905-c5e1-4f23-80a8-ededd2804445",
   "metadata": {
    "ExecuteTime": {
     "end_time": "2025-09-18T16:15:20.626029Z",
     "start_time": "2025-09-18T16:15:19.889253Z"
    }
   },
   "source": [
    "#access on your series\n",
    "#values\n",
    "print(series.values)\n",
    "#index\n",
    "print(series.index)"
   ],
   "outputs": [
    {
     "ename": "NameError",
     "evalue": "name 'series' is not defined",
     "output_type": "error",
     "traceback": [
      "\u001B[31m---------------------------------------------------------------------------\u001B[39m",
      "\u001B[31mNameError\u001B[39m                                 Traceback (most recent call last)",
      "\u001B[36mCell\u001B[39m\u001B[36m \u001B[39m\u001B[32mIn[2]\u001B[39m\u001B[32m, line 3\u001B[39m\n\u001B[32m      1\u001B[39m \u001B[38;5;66;03m#access on your series\u001B[39;00m\n\u001B[32m      2\u001B[39m \u001B[38;5;66;03m#values\u001B[39;00m\n\u001B[32m----> \u001B[39m\u001B[32m3\u001B[39m \u001B[38;5;28mprint\u001B[39m(\u001B[43mseries\u001B[49m.values)\n\u001B[32m      4\u001B[39m \u001B[38;5;66;03m#index\u001B[39;00m\n\u001B[32m      5\u001B[39m \u001B[38;5;28mprint\u001B[39m(series.index)\n",
      "\u001B[31mNameError\u001B[39m: name 'series' is not defined"
     ]
    }
   ],
   "execution_count": 2
  },
  {
   "cell_type": "raw",
   "id": "7321cf88-c986-4c33-99be-f3eb0f8f8c66",
   "metadata": {},
   "source": [
    "import pandas as pd\n",
    "\n",
    "# Create a series of 5 temps\n",
    "# Print max and min\n",
    "temp_range = pd.Series([-2, 19,25,32,40])\n",
    "print(temp_range.min())\n",
    "print(temp_range.max())"
   ]
  },
  {
   "metadata": {},
   "cell_type": "code",
   "outputs": [],
   "execution_count": null,
   "source": "",
   "id": "c4cb181deddc46a7"
  }
 ],
 "metadata": {
  "kernelspec": {
   "display_name": "Python 3 (ipykernel)",
   "language": "python",
   "name": "python3"
  },
  "language_info": {
   "codemirror_mode": {
    "name": "ipython",
    "version": 3
   },
   "file_extension": ".py",
   "mimetype": "text/x-python",
   "name": "python",
   "nbconvert_exporter": "python",
   "pygments_lexer": "ipython3",
   "version": "3.13.7"
  }
 },
 "nbformat": 4,
 "nbformat_minor": 5
}
