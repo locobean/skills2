{
 "cells": [
  {
   "cell_type": "code",
   "execution_count": null,
   "id": "5de27e8a-edae-4a89-a10c-c6b5fba0eb79",
   "metadata": {},
   "outputs": [],
   "source": [
    "#load in new data\n",
    "df = pd.read_csv(\"students_data_messy.csv\")\n",
    "df.head()\n",
    "\n",
    "# droping rows if the value is missing\n",
    "\n",
    "df_dropped = df.dropna()\n",
    "\n",
    "df_dropped.head()"
   ]
  }
 ],
 "metadata": {
  "kernelspec": {
   "display_name": "Python 3 (ipykernel)",
   "language": "python",
   "name": "python3"
  },
  "language_info": {
   "codemirror_mode": {
    "name": "ipython",
    "version": 3
   },
   "file_extension": ".py",
   "mimetype": "text/x-python",
   "name": "python",
   "nbconvert_exporter": "python",
   "pygments_lexer": "ipython3",
   "version": "3.13.7"
  }
 },
 "nbformat": 4,
 "nbformat_minor": 5
}
